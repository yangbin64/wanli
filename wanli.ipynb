{
 "cells": [
  {
   "cell_type": "code",
   "execution_count": 8,
   "metadata": {
    "collapsed": true
   },
   "outputs": [],
   "source": [
    "import pandas as pd\n",
    "import time\n",
    "import numpy as np"
   ]
  },
  {
   "cell_type": "code",
   "execution_count": 9,
   "metadata": {
    "collapsed": true
   },
   "outputs": [],
   "source": [
    "skip_prd_cols=[u'差级',u'厚度1',u'角度',u'密度',u'平方米重',u'平方米重1',u'后连续称',u'前连续称',\\\n",
    "               u'前测宽A',u'宽度（外层）',u'宽度3',u'面积3',u'面积4']"
   ]
  },
  {
   "cell_type": "code",
   "execution_count": 10,
   "metadata": {
    "collapsed": true
   },
   "outputs": [],
   "source": [
    "produce_data = pd.read_csv('复合压出生产数据.csv',encoding='GBK')"
   ]
  },
  {
   "cell_type": "code",
   "execution_count": 169,
   "metadata": {},
   "outputs": [
    {
     "data": {
      "text/plain": [
       "(137232, 31)"
      ]
     },
     "execution_count": 169,
     "metadata": {},
     "output_type": "execute_result"
    }
   ],
   "source": [
    "produce_data.shape"
   ]
  },
  {
   "cell_type": "code",
   "execution_count": 11,
   "metadata": {
    "collapsed": true
   },
   "outputs": [],
   "source": [
    "produce_data.drop(skip_prd_cols,axis=1,inplace=True)"
   ]
  },
  {
   "cell_type": "code",
   "execution_count": 12,
   "metadata": {
    "collapsed": true
   },
   "outputs": [],
   "source": [
    "jiance_data = pd.read_csv('复合压出轮廓检测数据.csv',encoding='GBK')"
   ]
  },
  {
   "cell_type": "code",
   "execution_count": 175,
   "metadata": {},
   "outputs": [
    {
     "data": {
      "text/html": [
       "<div>\n",
       "<style scoped>\n",
       "    .dataframe tbody tr th:only-of-type {\n",
       "        vertical-align: middle;\n",
       "    }\n",
       "\n",
       "    .dataframe tbody tr th {\n",
       "        vertical-align: top;\n",
       "    }\n",
       "\n",
       "    .dataframe thead th {\n",
       "        text-align: right;\n",
       "    }\n",
       "</style>\n",
       "<table border=\"1\" class=\"dataframe\">\n",
       "  <thead>\n",
       "    <tr style=\"text-align: right;\">\n",
       "      <th></th>\n",
       "      <th>部件米重</th>\n",
       "      <th>长度</th>\n",
       "      <th>厚度</th>\n",
       "      <th>宽度（内层）</th>\n",
       "      <th>口型</th>\n",
       "      <th>面积1</th>\n",
       "      <th>面积2</th>\n",
       "      <th>重量</th>\n",
       "      <th>实际完成时间</th>\n",
       "      <th>实际产量</th>\n",
       "      <th>...</th>\n",
       "      <th>配方</th>\n",
       "      <th>配方版本</th>\n",
       "      <th>采集时间</th>\n",
       "      <th>班次</th>\n",
       "      <th>温度</th>\n",
       "      <th>烟囱胶螺杆速度</th>\n",
       "      <th>上机速度</th>\n",
       "      <th>工单号</th>\n",
       "      <th>采集时间_NUM</th>\n",
       "      <th>检测时间_NUM</th>\n",
       "    </tr>\n",
       "  </thead>\n",
       "  <tbody>\n",
       "    <tr>\n",
       "      <th>0</th>\n",
       "      <td>0.658</td>\n",
       "      <td>1143</td>\n",
       "      <td>0.0</td>\n",
       "      <td>160</td>\n",
       "      <td>WBE48032</td>\n",
       "      <td>472.5</td>\n",
       "      <td>117.3</td>\n",
       "      <td>0.752</td>\n",
       "      <td>2018-05-15T10:20:19.000+08:00</td>\n",
       "      <td>280</td>\n",
       "      <td>...</td>\n",
       "      <td>NaN</td>\n",
       "      <td>A.1</td>\n",
       "      <td>2018-05-15T10:14:56.000+08:00</td>\n",
       "      <td>2</td>\n",
       "      <td>58.9670</td>\n",
       "      <td>4.2</td>\n",
       "      <td>6</td>\n",
       "      <td>824967</td>\n",
       "      <td>1.526347e+09</td>\n",
       "      <td>1.526347e+09</td>\n",
       "    </tr>\n",
       "    <tr>\n",
       "      <th>1</th>\n",
       "      <td>0.658</td>\n",
       "      <td>1143</td>\n",
       "      <td>0.0</td>\n",
       "      <td>160</td>\n",
       "      <td>WBE48032</td>\n",
       "      <td>472.5</td>\n",
       "      <td>117.3</td>\n",
       "      <td>0.752</td>\n",
       "      <td>2018-05-15T10:20:19.000+08:00</td>\n",
       "      <td>280</td>\n",
       "      <td>...</td>\n",
       "      <td>NaN</td>\n",
       "      <td>A.1</td>\n",
       "      <td>2018-05-15T10:15:17.000+08:00</td>\n",
       "      <td>2</td>\n",
       "      <td>58.9670</td>\n",
       "      <td>4.2</td>\n",
       "      <td>6</td>\n",
       "      <td>824967</td>\n",
       "      <td>1.526347e+09</td>\n",
       "      <td>1.526347e+09</td>\n",
       "    </tr>\n",
       "    <tr>\n",
       "      <th>2</th>\n",
       "      <td>0.658</td>\n",
       "      <td>1143</td>\n",
       "      <td>0.0</td>\n",
       "      <td>160</td>\n",
       "      <td>WBE48032</td>\n",
       "      <td>472.5</td>\n",
       "      <td>117.3</td>\n",
       "      <td>0.752</td>\n",
       "      <td>2018-05-15T10:20:19.000+08:00</td>\n",
       "      <td>280</td>\n",
       "      <td>...</td>\n",
       "      <td>NaN</td>\n",
       "      <td>A.1</td>\n",
       "      <td>2018-05-15T10:15:32.000+08:00</td>\n",
       "      <td>2</td>\n",
       "      <td>59.0476</td>\n",
       "      <td>4.2</td>\n",
       "      <td>6</td>\n",
       "      <td>824967</td>\n",
       "      <td>1.526347e+09</td>\n",
       "      <td>1.526347e+09</td>\n",
       "    </tr>\n",
       "    <tr>\n",
       "      <th>3</th>\n",
       "      <td>0.658</td>\n",
       "      <td>1143</td>\n",
       "      <td>0.0</td>\n",
       "      <td>160</td>\n",
       "      <td>WBE48032</td>\n",
       "      <td>472.5</td>\n",
       "      <td>117.3</td>\n",
       "      <td>0.752</td>\n",
       "      <td>2018-05-15T10:20:19.000+08:00</td>\n",
       "      <td>280</td>\n",
       "      <td>...</td>\n",
       "      <td>NaN</td>\n",
       "      <td>A.1</td>\n",
       "      <td>2018-05-15T10:15:37.000+08:00</td>\n",
       "      <td>2</td>\n",
       "      <td>58.9670</td>\n",
       "      <td>4.2</td>\n",
       "      <td>6</td>\n",
       "      <td>824967</td>\n",
       "      <td>1.526347e+09</td>\n",
       "      <td>1.526347e+09</td>\n",
       "    </tr>\n",
       "    <tr>\n",
       "      <th>4</th>\n",
       "      <td>0.658</td>\n",
       "      <td>1143</td>\n",
       "      <td>0.0</td>\n",
       "      <td>160</td>\n",
       "      <td>WBE48032</td>\n",
       "      <td>472.5</td>\n",
       "      <td>117.3</td>\n",
       "      <td>0.752</td>\n",
       "      <td>2018-05-15T10:20:19.000+08:00</td>\n",
       "      <td>280</td>\n",
       "      <td>...</td>\n",
       "      <td>NaN</td>\n",
       "      <td>A.1</td>\n",
       "      <td>2018-05-15T10:16:03.000+08:00</td>\n",
       "      <td>2</td>\n",
       "      <td>58.9670</td>\n",
       "      <td>4.2</td>\n",
       "      <td>6</td>\n",
       "      <td>824967</td>\n",
       "      <td>1.526347e+09</td>\n",
       "      <td>1.526347e+09</td>\n",
       "    </tr>\n",
       "  </tbody>\n",
       "</table>\n",
       "<p>5 rows × 31 columns</p>\n",
       "</div>"
      ],
      "text/plain": [
       "    部件米重    长度   厚度  宽度（内层）        口型    面积1    面积2     重量  \\\n",
       "0  0.658  1143  0.0     160  WBE48032  472.5  117.3  0.752   \n",
       "1  0.658  1143  0.0     160  WBE48032  472.5  117.3  0.752   \n",
       "2  0.658  1143  0.0     160  WBE48032  472.5  117.3  0.752   \n",
       "3  0.658  1143  0.0     160  WBE48032  472.5  117.3  0.752   \n",
       "4  0.658  1143  0.0     160  WBE48032  472.5  117.3  0.752   \n",
       "\n",
       "                          实际完成时间  实际产量      ...       配方  配方版本  \\\n",
       "0  2018-05-15T10:20:19.000+08:00   280      ...      NaN   A.1   \n",
       "1  2018-05-15T10:20:19.000+08:00   280      ...      NaN   A.1   \n",
       "2  2018-05-15T10:20:19.000+08:00   280      ...      NaN   A.1   \n",
       "3  2018-05-15T10:20:19.000+08:00   280      ...      NaN   A.1   \n",
       "4  2018-05-15T10:20:19.000+08:00   280      ...      NaN   A.1   \n",
       "\n",
       "                            采集时间  班次       温度  烟囱胶螺杆速度  上机速度     工单号  \\\n",
       "0  2018-05-15T10:14:56.000+08:00   2  58.9670      4.2     6  824967   \n",
       "1  2018-05-15T10:15:17.000+08:00   2  58.9670      4.2     6  824967   \n",
       "2  2018-05-15T10:15:32.000+08:00   2  59.0476      4.2     6  824967   \n",
       "3  2018-05-15T10:15:37.000+08:00   2  58.9670      4.2     6  824967   \n",
       "4  2018-05-15T10:16:03.000+08:00   2  58.9670      4.2     6  824967   \n",
       "\n",
       "       采集时间_NUM      检测时间_NUM  \n",
       "0  1.526347e+09  1.526347e+09  \n",
       "1  1.526347e+09  1.526347e+09  \n",
       "2  1.526347e+09  1.526347e+09  \n",
       "3  1.526347e+09  1.526347e+09  \n",
       "4  1.526347e+09  1.526347e+09  \n",
       "\n",
       "[5 rows x 31 columns]"
      ]
     },
     "execution_count": 175,
     "metadata": {},
     "output_type": "execute_result"
    }
   ],
   "source": [
    "produce_data.head()"
   ]
  },
  {
   "cell_type": "code",
   "execution_count": 48,
   "metadata": {},
   "outputs": [
    {
     "data": {
      "text/html": [
       "<div>\n",
       "<style scoped>\n",
       "    .dataframe tbody tr th:only-of-type {\n",
       "        vertical-align: middle;\n",
       "    }\n",
       "\n",
       "    .dataframe tbody tr th {\n",
       "        vertical-align: top;\n",
       "    }\n",
       "\n",
       "    .dataframe thead th {\n",
       "        text-align: right;\n",
       "    }\n",
       "</style>\n",
       "<table border=\"1\" class=\"dataframe\">\n",
       "  <thead>\n",
       "    <tr style=\"text-align: right;\">\n",
       "      <th></th>\n",
       "      <th>是否异常点</th>\n",
       "      <th>实际值</th>\n",
       "      <th>检测时间</th>\n",
       "      <th>到边的距离</th>\n",
       "      <th>误差值</th>\n",
       "      <th>产线</th>\n",
       "      <th>配方</th>\n",
       "      <th>是否左边</th>\n",
       "      <th>标准值</th>\n",
       "      <th>检测时间_NUM</th>\n",
       "    </tr>\n",
       "  </thead>\n",
       "  <tbody>\n",
       "    <tr>\n",
       "      <th>1433</th>\n",
       "      <td>True</td>\n",
       "      <td>3.6</td>\n",
       "      <td>2018-05-20T09:52:34.000+08:00</td>\n",
       "      <td>34</td>\n",
       "      <td>0.5</td>\n",
       "      <td>B0201005</td>\n",
       "      <td>4262</td>\n",
       "      <td>True</td>\n",
       "      <td>4.674050</td>\n",
       "      <td>1.526778e+09</td>\n",
       "    </tr>\n",
       "    <tr>\n",
       "      <th>1427</th>\n",
       "      <td>True</td>\n",
       "      <td>3.7</td>\n",
       "      <td>2018-05-20T09:52:34.000+08:00</td>\n",
       "      <td>79</td>\n",
       "      <td>0.5</td>\n",
       "      <td>B0201005</td>\n",
       "      <td>4262</td>\n",
       "      <td>False</td>\n",
       "      <td>4.913975</td>\n",
       "      <td>1.526778e+09</td>\n",
       "    </tr>\n",
       "    <tr>\n",
       "      <th>1418</th>\n",
       "      <td>False</td>\n",
       "      <td>0.5</td>\n",
       "      <td>2018-05-20T09:52:34.000+08:00</td>\n",
       "      <td>0</td>\n",
       "      <td>0.7</td>\n",
       "      <td>B0201005</td>\n",
       "      <td>4262</td>\n",
       "      <td>False</td>\n",
       "      <td>1.094600</td>\n",
       "      <td>1.526778e+09</td>\n",
       "    </tr>\n",
       "    <tr>\n",
       "      <th>1419</th>\n",
       "      <td>False</td>\n",
       "      <td>2.2</td>\n",
       "      <td>2018-05-20T09:52:34.000+08:00</td>\n",
       "      <td>10</td>\n",
       "      <td>0.5</td>\n",
       "      <td>B0201005</td>\n",
       "      <td>4262</td>\n",
       "      <td>False</td>\n",
       "      <td>2.214363</td>\n",
       "      <td>1.526778e+09</td>\n",
       "    </tr>\n",
       "    <tr>\n",
       "      <th>1420</th>\n",
       "      <td>False</td>\n",
       "      <td>0.5</td>\n",
       "      <td>2018-05-20T09:52:34.000+08:00</td>\n",
       "      <td>105</td>\n",
       "      <td>0.7</td>\n",
       "      <td>B0201005</td>\n",
       "      <td>4262</td>\n",
       "      <td>False</td>\n",
       "      <td>0.771200</td>\n",
       "      <td>1.526778e+09</td>\n",
       "    </tr>\n",
       "  </tbody>\n",
       "</table>\n",
       "</div>"
      ],
      "text/plain": [
       "      是否异常点  实际值                           检测时间  到边的距离  误差值        产线    配方  \\\n",
       "1433   True  3.6  2018-05-20T09:52:34.000+08:00     34  0.5  B0201005  4262   \n",
       "1427   True  3.7  2018-05-20T09:52:34.000+08:00     79  0.5  B0201005  4262   \n",
       "1418  False  0.5  2018-05-20T09:52:34.000+08:00      0  0.7  B0201005  4262   \n",
       "1419  False  2.2  2018-05-20T09:52:34.000+08:00     10  0.5  B0201005  4262   \n",
       "1420  False  0.5  2018-05-20T09:52:34.000+08:00    105  0.7  B0201005  4262   \n",
       "\n",
       "       是否左边       标准值      检测时间_NUM  \n",
       "1433   True  4.674050  1.526778e+09  \n",
       "1427  False  4.913975  1.526778e+09  \n",
       "1418  False  1.094600  1.526778e+09  \n",
       "1419  False  2.214363  1.526778e+09  \n",
       "1420  False  0.771200  1.526778e+09  "
      ]
     },
     "execution_count": 48,
     "metadata": {},
     "output_type": "execute_result"
    }
   ],
   "source": [
    "jiance_data.head()"
   ]
  },
  {
   "cell_type": "code",
   "execution_count": 13,
   "metadata": {
    "collapsed": true
   },
   "outputs": [],
   "source": [
    "produce_data[u'采集时间_NUM']=produce_data[u'采集时间'].apply(lambda x:time.mktime(pd.Timestamp(x).timetuple()))\n",
    "produce_data[u'检测时间_NUM'] =produce_data[u'采集时间_NUM']+160.0/produce_data[u'线速度']"
   ]
  },
  {
   "cell_type": "code",
   "execution_count": 14,
   "metadata": {
    "collapsed": true
   },
   "outputs": [],
   "source": [
    "produce_data.sort_values(u'检测时间_NUM', inplace=True)\n",
    "duplicate_bool = produce_data.duplicated(subset=[u'检测时间_NUM'], keep=False)\n",
    "produce_data = produce_data.loc[duplicate_bool != True]\n",
    "produce_data.reset_index(inplace=True,drop=True)"
   ]
  },
  {
   "cell_type": "code",
   "execution_count": 15,
   "metadata": {
    "collapsed": true
   },
   "outputs": [],
   "source": [
    "jiance_data[u'检测时间_NUM']=jiance_data[u'检测时间'].apply(lambda x:time.mktime(pd.Timestamp(x).timetuple()))\n",
    "jiance_data.sort_values(u'检测时间_NUM', inplace=True)\n",
    "jiance_data.reset_index(inplace=True,drop=True)"
   ]
  },
  {
   "cell_type": "code",
   "execution_count": 10,
   "metadata": {},
   "outputs": [
    {
     "data": {
      "text/plain": [
       "134599"
      ]
     },
     "execution_count": 10,
     "metadata": {},
     "output_type": "execute_result"
    }
   ],
   "source": [
    "len(produce_data[u'检测时间'].unique())"
   ]
  },
  {
   "cell_type": "code",
   "execution_count": 17,
   "metadata": {
    "collapsed": true
   },
   "outputs": [],
   "source": [
    "jiance_groups = jiance_data.groupby(u'检测时间_NUM')"
   ]
  },
  {
   "cell_type": "code",
   "execution_count": 6,
   "metadata": {},
   "outputs": [
    {
     "data": {
      "text/plain": [
       "10630"
      ]
     },
     "execution_count": 6,
     "metadata": {},
     "output_type": "execute_result"
    }
   ],
   "source": [
    "len(jiance_groups)"
   ]
  },
  {
   "cell_type": "code",
   "execution_count": 44,
   "metadata": {},
   "outputs": [
    {
     "name": "stdout",
     "output_type": "stream",
     "text": [
      "0\n",
      "2000\n",
      "4000\n",
      "6000\n",
      "8000\n",
      "10000\n"
     ]
    }
   ],
   "source": [
    "result = []\n",
    "count=0\n",
    "for key,item in jiance_groups:\n",
    "    #print key#,item\n",
    "    if count%2000==0:\n",
    "        print count\n",
    "    count+=1\n",
    "    tmp = key-produce_data[u'检测时间_NUM']\n",
    "    tmp = tmp[tmp>=0].sort_values()\n",
    "#     print tmp.iloc[0]\n",
    "    if tmp.iloc[0]<=600:\n",
    "        array = np.array(item)\n",
    "        for a in array:\n",
    "            result.append(np.concatenate([a, np.array(produce_data.ix[tmp.index[0]])]))\n",
    "        \n",
    "#     produce_data.ix[tmp.index[0]]\n",
    "#     break"
   ]
  },
  {
   "cell_type": "code",
   "execution_count": 52,
   "metadata": {},
   "outputs": [],
   "source": [
    "col1=[]\n",
    "for key,item in jiance_groups:\n",
    "    col1 = item.columns\n",
    "    break"
   ]
  },
  {
   "cell_type": "code",
   "execution_count": 59,
   "metadata": {},
   "outputs": [],
   "source": [
    "cols=list(col1)+(list(produce_data.columns))"
   ]
  },
  {
   "cell_type": "code",
   "execution_count": 61,
   "metadata": {},
   "outputs": [],
   "source": [
    "final_result = pd.DataFrame(result,columns=cols)"
   ]
  },
  {
   "cell_type": "code",
   "execution_count": 62,
   "metadata": {},
   "outputs": [
    {
     "data": {
      "text/plain": [
       "(167071, 41)"
      ]
     },
     "execution_count": 62,
     "metadata": {},
     "output_type": "execute_result"
    }
   ],
   "source": [
    "final_result.shape"
   ]
  },
  {
   "cell_type": "code",
   "execution_count": 63,
   "metadata": {
    "collapsed": true
   },
   "outputs": [],
   "source": [
    "final_result.to_csv('轮胎_clean.csv',index=False,encoding='utf8')"
   ]
  },
  {
   "cell_type": "code",
   "execution_count": 32,
   "metadata": {},
   "outputs": [],
   "source": []
  },
  {
   "cell_type": "code",
   "execution_count": 25,
   "metadata": {
    "collapsed": true
   },
   "outputs": [],
   "source": [
    "# pd.options.display.float_format = '${:,.5f}'.format\n",
    "# _input = 1526346869.1034484\n",
    "#left = pd.DataFrame(result[0][1]).transpose()\n",
    "# jiance_data.ix[(jiance_data[u'检测时间_NUM']-_input).argsort()[:2]]"
   ]
  },
  {
   "cell_type": "code",
   "execution_count": null,
   "metadata": {
    "collapsed": true
   },
   "outputs": [],
   "source": [
    "# duplicate_bool1 = produce_data.duplicated(subset=[u'检测时间_NUM'], keep=False)\n",
    "\n",
    "\n",
    "# produce_data.loc[duplicate_bool1 == True][[u'采集时间',u'线速度',u'产品编号', u'中机速度', u'操作工', u'计划产量', u'产线', u'配方', u'配方版本']].tail(100)\n",
    "\n",
    "# produce_data.loc[duplicate_bool == True][u'检测时间_NUM'].head(10)\n",
    "#produce_data.loc[duplicate_bool == True][[u'采集时间',u'采集时间_NUM',u'线速度',u'检测时间_NUM']].shape\n",
    "\n"
   ]
  },
  {
   "cell_type": "code",
   "execution_count": null,
   "metadata": {
    "collapsed": true
   },
   "outputs": [],
   "source": [
    "# result=[]\n",
    "# j,k=0,0\n",
    "# len_jiance=jiance_data.shape[0]\n",
    "# for i in range(32000,produce_data.shape[0]):#produce_data.shape[0]):\n",
    "#     if i%20000==0:\n",
    "#         print i\n",
    "#     i_data = produce_data.iloc[i]\n",
    "#     for k in range(j,len_jiance):\n",
    "#         j_data = jiance_data.iloc[k]\n",
    "#         if (j_data[u'检测时间_NUM']<i_data[u'采集时间_NUM']):\n",
    "#             continue\n",
    "#         if (j_data[u'检测时间_NUM']-i_data[u'采集时间_NUM'])<=600 and (j_data[u'检测时间_NUM']>=i_data[u'检测时间_NUM']):\n",
    "#             print i_data[u'检测时间_NUM'],j_data[u'检测时间_NUM']\n",
    "# #             break\n",
    "# #             if jiance_data.iloc[k][u'检测时间_NUM']!=j_data[u'检测时间_NUM']:\n",
    "# #                 j=k\n",
    "# #             else:\n",
    "# #                 result.append(np.concatenate((np.array(i_data), np.array(jiance_data.iloc[k])), axis=0))\n",
    "#             tmp = j_data[u'检测时间_NUM']\n",
    "#             while jiance_data.iloc[k][u'检测时间_NUM']==tmp:\n",
    "#                 result.append(np.concatenate((np.array(i_data), np.array(jiance_data.iloc[k])), axis=0))\n",
    "#                 k+=1\n",
    "#             j=k\n",
    "#             break\n",
    "#         else:\n",
    "#             break\n",
    "\n"
   ]
  }
 ],
 "metadata": {
  "kernelspec": {
   "display_name": "Python 2",
   "language": "python",
   "name": "python2"
  },
  "language_info": {
   "codemirror_mode": {
    "name": "ipython",
    "version": 2
   },
   "file_extension": ".py",
   "mimetype": "text/x-python",
   "name": "python",
   "nbconvert_exporter": "python",
   "pygments_lexer": "ipython2",
   "version": "2.7.14"
  }
 },
 "nbformat": 4,
 "nbformat_minor": 2
}
